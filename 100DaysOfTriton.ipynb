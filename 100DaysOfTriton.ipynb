{
  "nbformat": 4,
  "nbformat_minor": 0,
  "metadata": {
    "colab": {
      "provenance": [],
      "gpuType": "T4",
      "authorship_tag": "ABX9TyPdcnFtCtS7sGlksqdMB/lt",
      "include_colab_link": true
    },
    "kernelspec": {
      "name": "python3",
      "display_name": "Python 3"
    },
    "language_info": {
      "name": "python"
    },
    "accelerator": "GPU"
  },
  "cells": [
    {
      "cell_type": "markdown",
      "metadata": {
        "id": "view-in-github",
        "colab_type": "text"
      },
      "source": [
        "<a href=\"https://colab.research.google.com/github/mark-polo/100DaysOfTriton/blob/main/100DaysOfTriton.ipynb\" target=\"_parent\"><img src=\"https://colab.research.google.com/assets/colab-badge.svg\" alt=\"Open In Colab\"/></a>"
      ]
    },
    {
      "cell_type": "code",
      "execution_count": 1,
      "metadata": {
        "colab": {
          "base_uri": "https://localhost:8080/"
        },
        "id": "-OtkWia9yjQj",
        "outputId": "e8bef87a-0893-4442-92d5-b85ba175a6b3"
      },
      "outputs": [
        {
          "output_type": "stream",
          "name": "stdout",
          "text": [
            "Requirement already satisfied: triton in /usr/local/lib/python3.11/dist-packages (3.1.0)\n",
            "Requirement already satisfied: filelock in /usr/local/lib/python3.11/dist-packages (from triton) (3.17.0)\n"
          ]
        }
      ],
      "source": [
        "!pip install triton"
      ]
    },
    {
      "cell_type": "code",
      "source": [
        "import torch\n",
        "\n",
        "import triton\n",
        "import triton.language as tl"
      ],
      "metadata": {
        "id": "LVyzIWFEzima"
      },
      "execution_count": 2,
      "outputs": []
    },
    {
      "cell_type": "markdown",
      "source": [
        "# Day 1"
      ],
      "metadata": {
        "id": "lRfdO7MLzuVs"
      }
    },
    {
      "cell_type": "code",
      "source": [
        "@triton.jit\n",
        "def _add_kernel(\n",
        "    x_ptr,\n",
        "    y_ptr,\n",
        "    output_ptr,\n",
        "    num_el,\n",
        "    BLOCK_SIZE: tl.constexpr\n",
        "    ):\n",
        "\n",
        "  pid = tl.program_id(axis=0)\n",
        "\n",
        "  block_start = pid * BLOCK_SIZE\n",
        "\n",
        "  offs = block_start + tl.arange(0, BLOCK_SIZE)\n",
        "\n",
        "  mask = offs < num_el\n",
        "\n",
        "  x = tl.load(x_ptr + offs, mask=mask)\n",
        "  y = tl.load(y_ptr + offs, mask=mask)\n",
        "\n",
        "  output = x + y\n",
        "\n",
        "  tl.store(output_ptr + offs, output, mask=mask)"
      ],
      "metadata": {
        "id": "rf2B4dKpzsx9"
      },
      "execution_count": 3,
      "outputs": []
    },
    {
      "cell_type": "code",
      "source": [
        "def add(x: torch.Tensor, y: torch.Tensor):\n",
        "\n",
        "  output = torch.empty_like(x)\n",
        "\n",
        "  assert x.device == torch.device(\"cuda:0\") and y.device == torch.device(\"cuda:0\") and output.device == torch.device(\"cuda:0\"), f\"Tensors have wrong device expected cuda, but got x: {x.device}, y: {y.device} and output: {output.device}\"\n",
        "\n",
        "  num_el = output.numel()\n",
        "\n",
        "  grid = lambda meta: (triton.cdiv(num_el, meta[\"BLOCK_SIZE\"]),)\n",
        "\n",
        "  _add_kernel[grid](\n",
        "      x_ptr      = x,\n",
        "      y_ptr      = y,\n",
        "      output_ptr = output,\n",
        "      num_el     = num_el,\n",
        "      BLOCK_SIZE = 1024\n",
        "  )\n",
        "\n",
        "  return output"
      ],
      "metadata": {
        "id": "sYBPjYBU1hAH"
      },
      "execution_count": 15,
      "outputs": []
    },
    {
      "cell_type": "code",
      "source": [
        "torch.manual_seed(0)\n",
        "size = 1_000_000\n",
        "x = torch.rand(size, device=\"cuda\")\n",
        "y = torch.rand(size, device=\"cuda\")\n",
        "output_torch = x + y\n",
        "output_triton = add(x, y)\n",
        "print(output_torch)\n",
        "print(output_triton)\n",
        "print(f'The maximum difference between torch and triton is '\n",
        "      f'{torch.max(torch.abs(output_torch - output_triton))}')"
      ],
      "metadata": {
        "colab": {
          "base_uri": "https://localhost:8080/"
        },
        "id": "Il-XqHAj3OKE",
        "outputId": "64d91c59-1af5-4fd1-fe48-dbe3343b4e52"
      },
      "execution_count": 16,
      "outputs": [
        {
          "output_type": "stream",
          "name": "stdout",
          "text": [
            "tensor([1.0580, 0.6002, 0.3803,  ..., 0.4953, 0.8494, 1.0207], device='cuda:0')\n",
            "tensor([1.0580, 0.6002, 0.3803,  ..., 0.4953, 0.8494, 1.0207], device='cuda:0')\n",
            "The maximum difference between torch and triton is 0.0\n"
          ]
        }
      ]
    },
    {
      "cell_type": "code",
      "source": [
        "@triton.testing.perf_report(\n",
        "    triton.testing.Benchmark(\n",
        "        x_names=['size'],  # Argument names to use as an x-axis for the plot.\n",
        "        x_vals=[2**i for i in range(12, 28, 1)],  # Different possible values for `x_name`.\n",
        "        x_log=True,  # x axis is logarithmic.\n",
        "        line_arg='provider',  # Argument name whose value corresponds to a different line in the plot.\n",
        "        line_vals=['triton', 'torch'],  # Possible values for `line_arg`.\n",
        "        line_names=['Triton', 'Torch'],  # Label name for the lines.\n",
        "        styles=[('blue', '-'), ('green', '-')],  # Line styles.\n",
        "        ylabel='GB/s',  # Label name for the y-axis.\n",
        "        plot_name='vector-add-performance',  # Name for the plot. Used also as a file name for saving the plot.\n",
        "        args={},  # Values for function arguments not in `x_names` and `y_name`.\n",
        "    ))\n",
        "def benchmark(size, provider):\n",
        "    x = torch.rand(size, device=\"cuda\", dtype=torch.float32)\n",
        "    y = torch.rand(size, device=\"cuda\", dtype=torch.float32)\n",
        "    quantiles = [0.5, 0.2, 0.8]\n",
        "    if provider == 'torch':\n",
        "        ms, min_ms, max_ms = triton.testing.do_bench(lambda: x + y, quantiles=quantiles)\n",
        "    if provider == 'triton':\n",
        "        ms, min_ms, max_ms = triton.testing.do_bench(lambda: add(x, y), quantiles=quantiles)\n",
        "    gbps = lambda ms: 3 * x.numel() * x.element_size() * 1e-9 / (ms * 1e-3)\n",
        "    return gbps(ms), gbps(max_ms), gbps(min_ms)\n",
        "\n",
        "\n",
        "benchmark.run(print_data=True, show_plots=True)"
      ],
      "metadata": {
        "colab": {
          "base_uri": "https://localhost:8080/",
          "height": 775
        },
        "id": "qefb1omK3VdB",
        "outputId": "77c7da4b-6ae2-4c7b-d9a7-cd225a9eb2a2"
      },
      "execution_count": 17,
      "outputs": [
        {
          "output_type": "display_data",
          "data": {
            "text/plain": [
              "<Figure size 640x480 with 1 Axes>"
            ],
            "image/png": "[encoded data removed]"
          },
          "metadata": {}
        },
        {
          "output_type": "stream",
          "name": "stdout",
          "text": [
            "vector-add-performance:\n",
            "           size      Triton       Torch\n",
            "0        4096.0    6.981818    7.384615\n",
            "1        8192.0   15.999999   23.272727\n",
            "2       16384.0   35.310345   35.310345\n",
            "3       32768.0   63.999998   63.015384\n",
            "4       65536.0  105.476395  102.400003\n",
            "5      131072.0  145.420113  145.420113\n",
            "6      262144.0  185.654385  177.604328\n",
            "7      524288.0  209.157447  196.215579\n",
            "8     1048576.0  219.428568  219.428568\n",
            "9     2097152.0  228.282153  229.682243\n",
            "10    4194304.0  233.917907  237.772341\n",
            "11    8388608.0  235.511559  239.510281\n",
            "12   16777216.0  237.458234  241.941858\n",
            "13   33554432.0  238.403038  242.850077\n",
            "14   67108864.0  239.392948  243.470333\n",
            "15  134217728.0  240.079781  245.013480\n"
          ]
        }
      ]
    }
  ]
}